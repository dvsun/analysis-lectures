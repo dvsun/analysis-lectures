{
 "cells": [
  {
   "cell_type": "markdown",
   "metadata": {},
   "source": [
    "## Lecture 2 - I was looking for a house, so I built a web scraper in Python!\n",
    "**Reference:** [I was looking for a house, so I built a web scraper in Python!](https://towardsdatascience.com/looking-for-a-house-build-a-web-scraper-to-help-you-5ab25badc83e)\n",
    "\n",
    "The second lecture is related to scraping the data from a real state website. \n",
    "\n",
    "After reading the article...\n",
    "- Try to access the *robots.txt* file of [Giphy](https://giphy.com) and [Facebook](https://www.facebook.com) as explained in the article. Can you scrape those web pages? Do some research and try to understand those files.\n",
    "\n",
    "From Giphy yes, without any restriction. In facebook, as I expected, is severely regulated. However, robots.txt is only a recomendation information, thus no legal document neither law. \n",
    "\n",
    "- Did you do some web scraping in your project? Did you have to use some of the *tricks* the author used regarding time sleep, user-agent, ...? Why? Explain your experience. \n",
    "No. However, I did many in my web-scraping lab. I haven't used any trick, but I think that these both tricks, time sleep and headers are the best of the article. Imitate a human behaviour is a polite way to ask information, but we never have to forget that is also a kind of Trojan Horse or Mask dance. \n",
    "\n",
    "- Is there anything you think the author missed, something he could improve or do yo have some to-do ideas for him?\n",
    "Not really. However, I expected a higher level of python from the author. When I didn't how to programm in any language, I knew that you can analize the HTML in Firefox too! It's a common knowledge for all web surfers. And for me, this it's the perfect example that makes me take into low consideration what he writes. If he doesn't know that, he may miss many other important things.\n",
    "Answering the question, he almost have our level, so few think we can say about his code. He did a good job, and if it works as he said, it's perfect. \n"
   ]
  }
 ],
 "metadata": {
  "kernelspec": {
   "display_name": "Python 3",
   "language": "python",
   "name": "python3"
  },
  "language_info": {
   "codemirror_mode": {
    "name": "ipython",
    "version": 3
   },
   "file_extension": ".py",
   "mimetype": "text/x-python",
   "name": "python",
   "nbconvert_exporter": "python",
   "pygments_lexer": "ipython3",
   "version": "3.7.1"
  },
  "varInspector": {
   "cols": {
    "lenName": 16,
    "lenType": 16,
    "lenVar": 40
   },
   "kernels_config": {
    "python": {
     "delete_cmd_postfix": "",
     "delete_cmd_prefix": "del ",
     "library": "var_list.py",
     "varRefreshCmd": "print(var_dic_list())"
    },
    "r": {
     "delete_cmd_postfix": ") ",
     "delete_cmd_prefix": "rm(",
     "library": "var_list.r",
     "varRefreshCmd": "cat(var_dic_list()) "
    }
   },
   "types_to_exclude": [
    "module",
    "function",
    "builtin_function_or_method",
    "instance",
    "_Feature"
   ],
   "window_display": false
  }
 },
 "nbformat": 4,
 "nbformat_minor": 2
}
